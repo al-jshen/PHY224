{
 "cells": [
  {
   "cell_type": "markdown",
   "metadata": {},
   "source": [
    "## Introduction to Scientific Computing\n",
    "##### Jeff Shen, 1004911526\n",
    "##### PHY224 | Winter 2020\n",
    "##### 24 Jan 2020"
   ]
  },
  {
   "cell_type": "code",
   "execution_count": 19,
   "metadata": {},
   "outputs": [],
   "source": [
    "# imports\n",
    "import numpy as np\n",
    "from scipy.integrate import simps"
   ]
  },
  {
   "cell_type": "markdown",
   "metadata": {},
   "source": [
    "### Question 1: numpy operations"
   ]
  },
  {
   "cell_type": "code",
   "execution_count": 1,
   "metadata": {},
   "outputs": [],
   "source": [
    "a = 1\n",
    "b = np.array([3.0,2.3,1.0])\n",
    "c = np.array([3,.3,.03])\n",
    "d = np.array([[2,4],[4,6],[7,8]])\n",
    "f = [9,90,900]"
   ]
  },
  {
   "cell_type": "code",
   "execution_count": 15,
   "metadata": {},
   "outputs": [
    {
     "name": "stdout",
     "output_type": "stream",
     "text": [
      "[4.  3.3 2. ]\n",
      "[6.   2.6  1.03]\n",
      "[[5.   7.  ]\n",
      " [4.3  6.3 ]\n",
      " [7.03 8.03]]\n",
      "[ 12.   92.3 901. ]\n",
      "<class 'numpy.ndarray'> <class 'list'>\n",
      "3 3\n"
     ]
    }
   ],
   "source": [
    "# subquestion 1:\n",
    "print(a+b)\n",
    "\n",
    "# subquestion 2:\n",
    "print(c+b)\n",
    "\n",
    "# subquestion 3:\n",
    "print(np.expand_dims(c, 1) + d)\n",
    "\n",
    "# subquestion 4:\n",
    "print(b+f)\n",
    "\n",
    "# subquestion 5:\n",
    "print(type(d), type(f))\n",
    "\n",
    "# subquestion 6:\n",
    "print(len(d), len(f))"
   ]
  },
  {
   "cell_type": "markdown",
   "metadata": {},
   "source": [
    "### Question 2: numpy functions"
   ]
  },
  {
   "cell_type": "code",
   "execution_count": 18,
   "metadata": {},
   "outputs": [],
   "source": [
    "t = np.array([0. , 0.1155, 0.2287, 0.3404, 0.4475,0.5546, 0.6607, 0.7753, 0.8871, 1. ])\n",
    "y = np.array([0. , 0.1655, 0.2009, 0.1124,-0.0873, -0.3996, -0.8197, -1.3977,-2.0856, -2.905 ])"
   ]
  },
  {
   "cell_type": "code",
   "execution_count": 26,
   "metadata": {},
   "outputs": [
    {
     "name": "stdout",
     "output_type": "stream",
     "text": [
      "-0.7216099999999999\n",
      "1.0777910583431485\n",
      "[ 1.43290043  0.31272085 -0.79230081 -1.86461251 -2.91596639 -3.9594722\n",
      " -5.04363002 -6.1529517  -7.25775022]\n",
      "0.6249779509514343\n"
     ]
    }
   ],
   "source": [
    "# subquestion 1:\n",
    "print(y.mean())\n",
    "\n",
    "# subquestion 2:\n",
    "print(y.std(ddof=1))\n",
    "\n",
    "# subquestion 3:\n",
    "print(np.diff(y)/np.diff(t))\n",
    "\n",
    "# subquestion 4:\n",
    "print(simps(1/2*np.square(y), t))"
   ]
  },
  {
   "cell_type": "markdown",
   "metadata": {},
   "source": [
    "### Question 3: Implementing equations in Python"
   ]
  },
  {
   "cell_type": "code",
   "execution_count": 46,
   "metadata": {},
   "outputs": [
    {
     "name": "stdout",
     "output_type": "stream",
     "text": [
      "3.1718699246097066\n",
      "0.3224070771022523\n"
     ]
    }
   ],
   "source": [
    "# subquestion 1:\n",
    "g = 9.81 # meters per second\n",
    "def pendulum_acceleration(length, period):\n",
    "    return 2*np.pi*np.sqrt(length / g)\n",
    "\n",
    "print(pendulum_acceleration(2.50, 5.16))\n",
    "\n",
    "# subquestion 2:\n",
    "# rearrange equation to solve for g:\n",
    "# g = 4pi * l / T\n",
    "def uncertain(l, l_uncert, t, t_uncert):\n",
    "    l_uncert_perc = l_uncert / l # as % of l\n",
    "    t_sq_uncert_perc = (t_uncert / t) * 2 # as % of t^2\n",
    "    l_over_t_sq_uncert_perc = l_uncert_perc + t_sq_uncert_perc # as % of l/t^2\n",
    "    return 4 * np.square(np.pi) * l_over_t_sq_uncert_perc\n",
    "\n",
    "print(uncertain(2.4, 0.01, 5., 0.01))"
   ]
  },
  {
   "cell_type": "code",
   "execution_count": 44,
   "metadata": {},
   "outputs": [
    {
     "data": {
      "text/plain": [
       "0.1"
      ]
     },
     "execution_count": 44,
     "metadata": {},
     "output_type": "execute_result"
    }
   ],
   "source": [
    "t_unc = 0.01\n",
    "t = 5.\n",
    "(t_unc/t)*2 * t**2"
   ]
  },
  {
   "cell_type": "markdown",
   "metadata": {},
   "source": [
    "### Question 4: Conditionals"
   ]
  },
  {
   "cell_type": "code",
   "execution_count": 30,
   "metadata": {},
   "outputs": [],
   "source": [
    "def gpa(mark):\n",
    "    if mark >= 85: return 4.\n",
    "    elif mark >= 80: return 3.7\n",
    "    elif mark >= 77: return 3.3\n",
    "    elif mark >= 73: return 3.\n",
    "    elif mark >= 70: return 2.7\n",
    "    elif mark >= 67: return 2.3\n",
    "    elif mark >= 63: return 2.\n",
    "    elif mark >= 60: return 1.7\n",
    "    elif mark >= 57: return 1.3\n",
    "    elif mark >= 53: return 1.\n",
    "    elif mark >= 50: return 0.7\n",
    "    else: return 0."
   ]
  },
  {
   "cell_type": "markdown",
   "metadata": {},
   "source": [
    "### Question 5: Loops"
   ]
  },
  {
   "cell_type": "code",
   "execution_count": 33,
   "metadata": {},
   "outputs": [],
   "source": [
    "marks = np.array([72, 82, 72, 72, 79, 57, 59, 71, 66, 80, 67, 62, 91, 74, 77, 62, 71, 78, 65, 80, 70, 74, 70, 95, 76, 66, 85, 64, 79, 57, 63, 78, 84, 78, 75, 73, 62, 69, 72, 87])"
   ]
  },
  {
   "cell_type": "code",
   "execution_count": 36,
   "metadata": {},
   "outputs": [
    {
     "name": "stdout",
     "output_type": "stream",
     "text": [
      "2.77\n"
     ]
    }
   ],
   "source": [
    "vectorized_gpa = np.vectorize(gpa)\n",
    "print(vectorized_gpa(marks).mean())"
   ]
  },
  {
   "cell_type": "markdown",
   "metadata": {},
   "source": [
    "### Question 6: Data Comparison"
   ]
  },
  {
   "cell_type": "code",
   "execution_count": 37,
   "metadata": {},
   "outputs": [
    {
     "name": "stdout",
     "output_type": "stream",
     "text": [
      "False\n",
      "True\n",
      "True\n"
     ]
    }
   ],
   "source": [
    "def agrees(measurement, uncertainty, known):\n",
    "    return np.abs(known - measurement) <= uncertainty\n",
    "\n",
    "print(agrees(19.2, 0.1, 19.41))\n",
    "print(agrees(19.5, 0.8, 19.41))\n",
    "print(agrees(19.5, 0.1, 19.41))"
   ]
  }
 ],
 "metadata": {
  "kernelspec": {
   "display_name": "Python 3",
   "language": "python",
   "name": "python3"
  },
  "language_info": {
   "codemirror_mode": {
    "name": "ipython",
    "version": 3
   },
   "file_extension": ".py",
   "mimetype": "text/x-python",
   "name": "python",
   "nbconvert_exporter": "python",
   "pygments_lexer": "ipython3",
   "version": "3.7.6"
  }
 },
 "nbformat": 4,
 "nbformat_minor": 4
}
