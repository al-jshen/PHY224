{
 "cells": [
  {
   "cell_type": "code",
   "execution_count": 2,
   "metadata": {},
   "outputs": [],
   "source": [
    "import numpy as np\n",
    "import matplotlib.pyplot as plt\n",
    "%matplotlib inline\n",
    "import pandas as pd\n",
    "import seaborn as sns\n",
    "import os"
   ]
  },
  {
   "cell_type": "code",
   "execution_count": 122,
   "metadata": {},
   "outputs": [],
   "source": [
    "maindir = '/Users/js/school/phy224/fluid/drops/glycerine'"
   ]
  },
  {
   "cell_type": "code",
   "execution_count": 100,
   "metadata": {},
   "outputs": [],
   "source": [
    "sizes = pd.read_csv('/Users/js/school/phy224/fluid/sizes.csv')"
   ]
  },
  {
   "cell_type": "code",
   "execution_count": 101,
   "metadata": {},
   "outputs": [],
   "source": [
    "sizes['radius'] = sizes.diameter / 2"
   ]
  },
  {
   "cell_type": "code",
   "execution_count": 102,
   "metadata": {},
   "outputs": [
    {
     "data": {
      "text/html": [
       "<div>\n",
       "<style scoped>\n",
       "    .dataframe tbody tr th:only-of-type {\n",
       "        vertical-align: middle;\n",
       "    }\n",
       "\n",
       "    .dataframe tbody tr th {\n",
       "        vertical-align: top;\n",
       "    }\n",
       "\n",
       "    .dataframe thead th {\n",
       "        text-align: right;\n",
       "    }\n",
       "</style>\n",
       "<table border=\"1\" class=\"dataframe\">\n",
       "  <thead>\n",
       "    <tr style=\"text-align: right;\">\n",
       "      <th></th>\n",
       "      <th>fluid</th>\n",
       "      <th>ballnum</th>\n",
       "      <th>diameter</th>\n",
       "      <th>radius</th>\n",
       "    </tr>\n",
       "  </thead>\n",
       "  <tbody>\n",
       "    <tr>\n",
       "      <td>0</td>\n",
       "      <td>water</td>\n",
       "      <td>1</td>\n",
       "      <td>2.35</td>\n",
       "      <td>1.175</td>\n",
       "    </tr>\n",
       "    <tr>\n",
       "      <td>1</td>\n",
       "      <td>water</td>\n",
       "      <td>2</td>\n",
       "      <td>3.10</td>\n",
       "      <td>1.550</td>\n",
       "    </tr>\n",
       "    <tr>\n",
       "      <td>2</td>\n",
       "      <td>water</td>\n",
       "      <td>3</td>\n",
       "      <td>3.95</td>\n",
       "      <td>1.975</td>\n",
       "    </tr>\n",
       "    <tr>\n",
       "      <td>3</td>\n",
       "      <td>water</td>\n",
       "      <td>4</td>\n",
       "      <td>4.75</td>\n",
       "      <td>2.375</td>\n",
       "    </tr>\n",
       "    <tr>\n",
       "      <td>4</td>\n",
       "      <td>water</td>\n",
       "      <td>5</td>\n",
       "      <td>6.30</td>\n",
       "      <td>3.150</td>\n",
       "    </tr>\n",
       "    <tr>\n",
       "      <td>5</td>\n",
       "      <td>glycerine</td>\n",
       "      <td>1</td>\n",
       "      <td>1.50</td>\n",
       "      <td>0.750</td>\n",
       "    </tr>\n",
       "    <tr>\n",
       "      <td>6</td>\n",
       "      <td>glycerine</td>\n",
       "      <td>2</td>\n",
       "      <td>2.30</td>\n",
       "      <td>1.150</td>\n",
       "    </tr>\n",
       "    <tr>\n",
       "      <td>7</td>\n",
       "      <td>glycerine</td>\n",
       "      <td>3</td>\n",
       "      <td>3.15</td>\n",
       "      <td>1.575</td>\n",
       "    </tr>\n",
       "    <tr>\n",
       "      <td>8</td>\n",
       "      <td>glycerine</td>\n",
       "      <td>4</td>\n",
       "      <td>4.70</td>\n",
       "      <td>2.350</td>\n",
       "    </tr>\n",
       "    <tr>\n",
       "      <td>9</td>\n",
       "      <td>glycerine</td>\n",
       "      <td>5</td>\n",
       "      <td>6.35</td>\n",
       "      <td>3.175</td>\n",
       "    </tr>\n",
       "  </tbody>\n",
       "</table>\n",
       "</div>"
      ],
      "text/plain": [
       "       fluid  ballnum  diameter  radius\n",
       "0      water        1      2.35   1.175\n",
       "1      water        2      3.10   1.550\n",
       "2      water        3      3.95   1.975\n",
       "3      water        4      4.75   2.375\n",
       "4      water        5      6.30   3.150\n",
       "5  glycerine        1      1.50   0.750\n",
       "6  glycerine        2      2.30   1.150\n",
       "7  glycerine        3      3.15   1.575\n",
       "8  glycerine        4      4.70   2.350\n",
       "9  glycerine        5      6.35   3.175"
      ]
     },
     "execution_count": 102,
     "metadata": {},
     "output_type": "execute_result"
    }
   ],
   "source": [
    "sizes"
   ]
  },
  {
   "cell_type": "code",
   "execution_count": 119,
   "metadata": {},
   "outputs": [],
   "source": [
    "allmeans = np.zeros(len(os.listdir(maindir)))\n",
    "for size in os.listdir(maindir):\n",
    "    meanvels = []\n",
    "    for dropnum in os.listdir(f'{maindir}/{size}'):\n",
    "        if dropnum.endswith('.txt'):\n",
    "            time, pos = np.loadtxt(f'{maindir}/{size}/{dropnum}', unpack=True, skiprows=2)\n",
    "            condition = pos > 1e-6\n",
    "            time, pos = time[condition], pos[condition]\n",
    "            vel = np.diff(pos)\n",
    "#             plt.plot(vel) # include this plot, explain why chop off first 3\n",
    "            vel = vel[3:]\n",
    "            meanvels.append(vel.mean())\n",
    "    meanvels = np.array(meanvels)\n",
    "    allmeans[int(size)-1] = meanvels.mean()"
   ]
  },
  {
   "cell_type": "code",
   "execution_count": 124,
   "metadata": {},
   "outputs": [
    {
     "data": {
      "text/plain": [
       "<matplotlib.collections.PathCollection at 0x125e31910>"
      ]
     },
     "execution_count": 124,
     "metadata": {},
     "output_type": "execute_result"
    },
    {
     "data": {
      "image/png": "[encoded data removed]",
      "text/plain": [
       "<Figure size 432x288 with 1 Axes>"
      ]
     },
     "metadata": {
      "needs_background": "light"
     },
     "output_type": "display_data"
    }
   ],
   "source": [
    "plt.scatter(sizes[sizes.fluid == 'glycerine'].radius, allmeans)"
   ]
  },
  {
   "cell_type": "code",
   "execution_count": 125,
   "metadata": {},
   "outputs": [
    {
     "data": {
      "text/plain": [
       "array([ 29.652,  36.213,  42.774,  48.788,  54.802,  60.817,  66.831,\n",
       "        73.392,  79.953,  86.514,  93.621, 100.182, 107.29 , 113.851,\n",
       "       120.958, 128.066, 135.174, 141.735, 148.842, 156.497, 163.058,\n",
       "       170.165, 177.273, 184.381, 191.488, 198.596, 205.704, 213.358,\n",
       "       220.466, 227.573, 235.228, 242.335, 249.99 , 254.911])"
      ]
     },
     "execution_count": 125,
     "metadata": {},
     "output_type": "execute_result"
    }
   ],
   "source": [
    "pos"
   ]
  },
  {
   "cell_type": "code",
   "execution_count": 127,
   "metadata": {},
   "outputs": [
    {
     "data": {
      "text/plain": [
       "array([0.043, 0.093, 0.143, 0.193, 0.243, 0.293, 0.343, 0.393, 0.443,\n",
       "       0.493, 0.543, 0.593, 0.643, 0.694, 0.743, 0.794, 0.843, 0.893,\n",
       "       0.943, 0.993, 1.043, 1.093, 1.143, 1.193, 1.243, 1.293, 1.343,\n",
       "       1.393, 1.443, 1.493, 1.543, 1.593, 1.643, 1.693])"
      ]
     },
     "execution_count": 127,
     "metadata": {},
     "output_type": "execute_result"
    }
   ],
   "source": [
    "time"
   ]
  },
  {
   "cell_type": "code",
   "execution_count": 128,
   "metadata": {},
   "outputs": [],
   "source": [
    "# alex: use 0.002 as uncertainty in position, 0.0005 as uncertainty in time"
   ]
  },
  {
   "cell_type": "code",
   "execution_count": null,
   "metadata": {},
   "outputs": [],
   "source": []
  }
 ],
 "metadata": {
  "kernelspec": {
   "display_name": "Python 3",
   "language": "python",
   "name": "python3"
  },
  "language_info": {
   "codemirror_mode": {
    "name": "ipython",
    "version": 3
   },
   "file_extension": ".py",
   "mimetype": "text/x-python",
   "name": "python",
   "nbconvert_exporter": "python",
   "pygments_lexer": "ipython3",
   "version": "3.7.6"
  }
 },
 "nbformat": 4,
 "nbformat_minor": 4
}
