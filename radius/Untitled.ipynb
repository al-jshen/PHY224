{
 "cells": [
  {
   "cell_type": "code",
   "execution_count": 1,
   "metadata": {},
   "outputs": [],
   "source": [
    "import numpy as np\n",
    "import matplotlib.pyplot as plt\n",
    "%matplotlib inline\n",
    "import pandas as pd\n",
    "from scipy.optimize import curve_fit"
   ]
  },
  {
   "cell_type": "code",
   "execution_count": 51,
   "metadata": {},
   "outputs": [],
   "source": [
    "data = pd.read_csv('data.csv')"
   ]
  },
  {
   "cell_type": "code",
   "execution_count": 52,
   "metadata": {},
   "outputs": [],
   "source": [
    "k = 0.10023\n",
    "deltar = 3.95\n",
    "mearth = 5.972e24\n",
    "G = 6.67e-11\n",
    "rearth = 6.371009e6"
   ]
  },
  {
   "cell_type": "code",
   "execution_count": 53,
   "metadata": {},
   "outputs": [],
   "source": [
    "def rad(dg):\n",
    "    return abs(-2 * deltar * G * mearth / dg) ** (1/3)"
   ]
  },
  {
   "cell_type": "code",
   "execution_count": 54,
   "metadata": {},
   "outputs": [],
   "source": [
    "data['deltag'] = data.value * k * 1e-5"
   ]
  },
  {
   "cell_type": "code",
   "execution_count": 55,
   "metadata": {},
   "outputs": [],
   "source": [
    "data['radius'] = rad(data.deltag)"
   ]
  },
  {
   "cell_type": "code",
   "execution_count": 56,
   "metadata": {},
   "outputs": [
    {
     "data": {
      "text/html": [
       "<div>\n",
       "<style scoped>\n",
       "    .dataframe tbody tr th:only-of-type {\n",
       "        vertical-align: middle;\n",
       "    }\n",
       "\n",
       "    .dataframe tbody tr th {\n",
       "        vertical-align: top;\n",
       "    }\n",
       "\n",
       "    .dataframe thead th {\n",
       "        text-align: right;\n",
       "    }\n",
       "</style>\n",
       "<table border=\"1\" class=\"dataframe\">\n",
       "  <thead>\n",
       "    <tr style=\"text-align: right;\">\n",
       "      <th></th>\n",
       "      <th>floor</th>\n",
       "      <th>value</th>\n",
       "      <th>time</th>\n",
       "      <th>deltag</th>\n",
       "      <th>radius</th>\n",
       "    </tr>\n",
       "  </thead>\n",
       "  <tbody>\n",
       "    <tr>\n",
       "      <td>0</td>\n",
       "      <td>2</td>\n",
       "      <td>843</td>\n",
       "      <td>10:12</td>\n",
       "      <td>0.000845</td>\n",
       "      <td>1.550062e+06</td>\n",
       "    </tr>\n",
       "    <tr>\n",
       "      <td>1</td>\n",
       "      <td>3</td>\n",
       "      <td>832</td>\n",
       "      <td>10:18</td>\n",
       "      <td>0.000834</td>\n",
       "      <td>1.556864e+06</td>\n",
       "    </tr>\n",
       "    <tr>\n",
       "      <td>2</td>\n",
       "      <td>4</td>\n",
       "      <td>820</td>\n",
       "      <td>10:23</td>\n",
       "      <td>0.000822</td>\n",
       "      <td>1.564421e+06</td>\n",
       "    </tr>\n",
       "    <tr>\n",
       "      <td>3</td>\n",
       "      <td>5</td>\n",
       "      <td>808</td>\n",
       "      <td>10:26</td>\n",
       "      <td>0.000810</td>\n",
       "      <td>1.572128e+06</td>\n",
       "    </tr>\n",
       "    <tr>\n",
       "      <td>4</td>\n",
       "      <td>6</td>\n",
       "      <td>797</td>\n",
       "      <td>10:30</td>\n",
       "      <td>0.000799</td>\n",
       "      <td>1.579328e+06</td>\n",
       "    </tr>\n",
       "    <tr>\n",
       "      <td>5</td>\n",
       "      <td>7</td>\n",
       "      <td>786</td>\n",
       "      <td>10:33</td>\n",
       "      <td>0.000788</td>\n",
       "      <td>1.586661e+06</td>\n",
       "    </tr>\n",
       "    <tr>\n",
       "      <td>6</td>\n",
       "      <td>8</td>\n",
       "      <td>774</td>\n",
       "      <td>10:35</td>\n",
       "      <td>0.000776</td>\n",
       "      <td>1.594819e+06</td>\n",
       "    </tr>\n",
       "    <tr>\n",
       "      <td>7</td>\n",
       "      <td>9</td>\n",
       "      <td>763</td>\n",
       "      <td>10:38</td>\n",
       "      <td>0.000765</td>\n",
       "      <td>1.602446e+06</td>\n",
       "    </tr>\n",
       "    <tr>\n",
       "      <td>8</td>\n",
       "      <td>10</td>\n",
       "      <td>750</td>\n",
       "      <td>10:41</td>\n",
       "      <td>0.000752</td>\n",
       "      <td>1.611652e+06</td>\n",
       "    </tr>\n",
       "    <tr>\n",
       "      <td>9</td>\n",
       "      <td>11</td>\n",
       "      <td>737</td>\n",
       "      <td>10:44</td>\n",
       "      <td>0.000739</td>\n",
       "      <td>1.621073e+06</td>\n",
       "    </tr>\n",
       "    <tr>\n",
       "      <td>10</td>\n",
       "      <td>12</td>\n",
       "      <td>727</td>\n",
       "      <td>10:47</td>\n",
       "      <td>0.000729</td>\n",
       "      <td>1.628472e+06</td>\n",
       "    </tr>\n",
       "    <tr>\n",
       "      <td>11</td>\n",
       "      <td>13</td>\n",
       "      <td>718</td>\n",
       "      <td>10:50</td>\n",
       "      <td>0.000720</td>\n",
       "      <td>1.635248e+06</td>\n",
       "    </tr>\n",
       "    <tr>\n",
       "      <td>12</td>\n",
       "      <td>14</td>\n",
       "      <td>701</td>\n",
       "      <td>9:59</td>\n",
       "      <td>0.000703</td>\n",
       "      <td>1.648361e+06</td>\n",
       "    </tr>\n",
       "    <tr>\n",
       "      <td>13</td>\n",
       "      <td>2</td>\n",
       "      <td>846</td>\n",
       "      <td>15:10</td>\n",
       "      <td>0.000848</td>\n",
       "      <td>1.548228e+06</td>\n",
       "    </tr>\n",
       "    <tr>\n",
       "      <td>14</td>\n",
       "      <td>3</td>\n",
       "      <td>837</td>\n",
       "      <td>15:23</td>\n",
       "      <td>0.000839</td>\n",
       "      <td>1.553757e+06</td>\n",
       "    </tr>\n",
       "    <tr>\n",
       "      <td>15</td>\n",
       "      <td>4</td>\n",
       "      <td>827</td>\n",
       "      <td>15:28</td>\n",
       "      <td>0.000829</td>\n",
       "      <td>1.559995e+06</td>\n",
       "    </tr>\n",
       "    <tr>\n",
       "      <td>16</td>\n",
       "      <td>5</td>\n",
       "      <td>813</td>\n",
       "      <td>15:33</td>\n",
       "      <td>0.000815</td>\n",
       "      <td>1.568898e+06</td>\n",
       "    </tr>\n",
       "    <tr>\n",
       "      <td>17</td>\n",
       "      <td>6</td>\n",
       "      <td>802</td>\n",
       "      <td>15:36</td>\n",
       "      <td>0.000804</td>\n",
       "      <td>1.576039e+06</td>\n",
       "    </tr>\n",
       "    <tr>\n",
       "      <td>18</td>\n",
       "      <td>7</td>\n",
       "      <td>789</td>\n",
       "      <td>15:39</td>\n",
       "      <td>0.000791</td>\n",
       "      <td>1.584647e+06</td>\n",
       "    </tr>\n",
       "    <tr>\n",
       "      <td>19</td>\n",
       "      <td>8</td>\n",
       "      <td>780</td>\n",
       "      <td>15:42</td>\n",
       "      <td>0.000782</td>\n",
       "      <td>1.590719e+06</td>\n",
       "    </tr>\n",
       "    <tr>\n",
       "      <td>20</td>\n",
       "      <td>9</td>\n",
       "      <td>768</td>\n",
       "      <td>15:45</td>\n",
       "      <td>0.000770</td>\n",
       "      <td>1.598961e+06</td>\n",
       "    </tr>\n",
       "    <tr>\n",
       "      <td>21</td>\n",
       "      <td>10</td>\n",
       "      <td>757</td>\n",
       "      <td>15:48</td>\n",
       "      <td>0.000759</td>\n",
       "      <td>1.606669e+06</td>\n",
       "    </tr>\n",
       "    <tr>\n",
       "      <td>22</td>\n",
       "      <td>11</td>\n",
       "      <td>747</td>\n",
       "      <td>15:51</td>\n",
       "      <td>0.000749</td>\n",
       "      <td>1.613807e+06</td>\n",
       "    </tr>\n",
       "    <tr>\n",
       "      <td>23</td>\n",
       "      <td>12</td>\n",
       "      <td>735</td>\n",
       "      <td>15:54</td>\n",
       "      <td>0.000737</td>\n",
       "      <td>1.622542e+06</td>\n",
       "    </tr>\n",
       "    <tr>\n",
       "      <td>24</td>\n",
       "      <td>13</td>\n",
       "      <td>721</td>\n",
       "      <td>15:56</td>\n",
       "      <td>0.000723</td>\n",
       "      <td>1.632976e+06</td>\n",
       "    </tr>\n",
       "  </tbody>\n",
       "</table>\n",
       "</div>"
      ],
      "text/plain": [
       "    floor  value   time    deltag        radius\n",
       "0       2    843  10:12  0.000845  1.550062e+06\n",
       "1       3    832  10:18  0.000834  1.556864e+06\n",
       "2       4    820  10:23  0.000822  1.564421e+06\n",
       "3       5    808  10:26  0.000810  1.572128e+06\n",
       "4       6    797  10:30  0.000799  1.579328e+06\n",
       "5       7    786  10:33  0.000788  1.586661e+06\n",
       "6       8    774  10:35  0.000776  1.594819e+06\n",
       "7       9    763  10:38  0.000765  1.602446e+06\n",
       "8      10    750  10:41  0.000752  1.611652e+06\n",
       "9      11    737  10:44  0.000739  1.621073e+06\n",
       "10     12    727  10:47  0.000729  1.628472e+06\n",
       "11     13    718  10:50  0.000720  1.635248e+06\n",
       "12     14    701   9:59  0.000703  1.648361e+06\n",
       "13      2    846  15:10  0.000848  1.548228e+06\n",
       "14      3    837  15:23  0.000839  1.553757e+06\n",
       "15      4    827  15:28  0.000829  1.559995e+06\n",
       "16      5    813  15:33  0.000815  1.568898e+06\n",
       "17      6    802  15:36  0.000804  1.576039e+06\n",
       "18      7    789  15:39  0.000791  1.584647e+06\n",
       "19      8    780  15:42  0.000782  1.590719e+06\n",
       "20      9    768  15:45  0.000770  1.598961e+06\n",
       "21     10    757  15:48  0.000759  1.606669e+06\n",
       "22     11    747  15:51  0.000749  1.613807e+06\n",
       "23     12    735  15:54  0.000737  1.622542e+06\n",
       "24     13    721  15:56  0.000723  1.632976e+06"
      ]
     },
     "execution_count": 56,
     "metadata": {},
     "output_type": "execute_result"
    }
   ],
   "source": [
    "data"
   ]
  },
  {
   "cell_type": "code",
   "execution_count": 57,
   "metadata": {},
   "outputs": [
    {
     "data": {
      "text/plain": [
       "<matplotlib.collections.PathCollection at 0x12a027d50>"
      ]
     },
     "execution_count": 57,
     "metadata": {},
     "output_type": "execute_result"
    },
    {
     "data": {
      "image/png": "[encoded data removed]",
      "text/plain": [
       "<Figure size 432x288 with 1 Axes>"
      ]
     },
     "metadata": {
      "needs_background": "light"
     },
     "output_type": "display_data"
    }
   ],
   "source": [
    "plt.scatter(data.floor, data.value)"
   ]
  },
  {
   "cell_type": "code",
   "execution_count": 58,
   "metadata": {},
   "outputs": [],
   "source": [
    "def f(x, m, b):\n",
    "    return m*x + b"
   ]
  },
  {
   "cell_type": "code",
   "execution_count": 59,
   "metadata": {},
   "outputs": [],
   "source": [
    "popt, pcov = curve_fit(f, data.floor, data.deltag)"
   ]
  },
  {
   "cell_type": "code",
   "execution_count": 60,
   "metadata": {},
   "outputs": [
    {
     "data": {
      "text/plain": [
       "<matplotlib.collections.PathCollection at 0x12a376290>"
      ]
     },
     "execution_count": 60,
     "metadata": {},
     "output_type": "execute_result"
    },
    {
     "data": {
      "image/png": "[encoded data removed]",
      "text/plain": [
       "<Figure size 432x288 with 1 Axes>"
      ]
     },
     "metadata": {
      "needs_background": "light"
     },
     "output_type": "display_data"
    }
   ],
   "source": [
    "plt.plot(data.floor, f(data.floor, *popt), c='r')\n",
    "plt.scatter(data.floor, data.deltag)"
   ]
  },
  {
   "cell_type": "code",
   "execution_count": 61,
   "metadata": {},
   "outputs": [
    {
     "data": {
      "text/plain": [
       "6471844.9143028045"
      ]
     },
     "execution_count": 61,
     "metadata": {},
     "output_type": "execute_result"
    }
   ],
   "source": [
    "pred = rad(popt[0])\n",
    "pred"
   ]
  },
  {
   "cell_type": "code",
   "execution_count": 62,
   "metadata": {},
   "outputs": [
    {
     "data": {
      "text/plain": [
       "100835.91430280451"
      ]
     },
     "execution_count": 62,
     "metadata": {},
     "output_type": "execute_result"
    }
   ],
   "source": [
    "(pred - rearth) "
   ]
  },
  {
   "cell_type": "code",
   "execution_count": 63,
   "metadata": {},
   "outputs": [
    {
     "data": {
      "text/plain": [
       "-103873.7643522353"
      ]
     },
     "execution_count": 63,
     "metadata": {},
     "output_type": "execute_result"
    }
   ],
   "source": [
    "np.sqrt(np.diag(pcov))[0] / popt[0] * pred"
   ]
  },
  {
   "cell_type": "code",
   "execution_count": null,
   "metadata": {},
   "outputs": [],
   "source": []
  }
 ],
 "metadata": {
  "kernelspec": {
   "display_name": "Python 3",
   "language": "python",
   "name": "python3"
  },
  "language_info": {
   "codemirror_mode": {
    "name": "ipython",
    "version": 3
   },
   "file_extension": ".py",
   "mimetype": "text/x-python",
   "name": "python",
   "nbconvert_exporter": "python",
   "pygments_lexer": "ipython3",
   "version": "3.7.6"
  }
 },
 "nbformat": 4,
 "nbformat_minor": 4
}
